{
 "cells": [
  {
   "cell_type": "markdown",
   "metadata": {},
   "source": [
    "# Fetch Issues from GitHub Repositories\n",
    "Per [issue-2](https://github.com/mishasinitcyn/RepoCleanup-backend/issues/2), the purpose of this notebook is to fetch GitHub issues directly from various repositories in hopes of using labelled entries in the corpus."
   ]
  },
  {
   "cell_type": "code",
   "execution_count": 11,
   "metadata": {},
   "outputs": [],
   "source": [
    "import pandas as pd\n",
    "import numpy as np\n",
    "import requests\n",
    "from dotenv import load_dotenv\n",
    "import os\n",
    "import requests"
   ]
  },
  {
   "cell_type": "code",
   "execution_count": 2,
   "metadata": {},
   "outputs": [],
   "source": [
    "DATA_PATH = os.path.join(\"..\", 'data')\n",
    "CORPUS_FILENAME = 'corpus.csv'"
   ]
  },
  {
   "cell_type": "markdown",
   "metadata": {},
   "source": [
    "## Fetch issues"
   ]
  },
  {
   "cell_type": "code",
   "execution_count": 41,
   "metadata": {},
   "outputs": [],
   "source": [
    "def fetch_github_issues(repo_url: str):\n",
    "    repo_path = \"/\".join(repo_url.split(\"https://github.com/\")[1].split(\"/issues\")[0].split(\"/\"))\n",
    "    api_url = f\"https://api.github.com/repos/{repo_path}/issues\"\n",
    "    \n",
    "    response = requests.get(api_url)\n",
    "    if response.status_code == 200:\n",
    "        issues_data = response.json()\n",
    "        filtered_issues = [\n",
    "            {\n",
    "                \"issue_id\": issue[\"id\"], \n",
    "                \"issue_title\": issue[\"title\"], \n",
    "                \"issue_body\": issue[\"body\"], \n",
    "                \"issue_labels\": [label[\"name\"] for label in issue[\"labels\"]],\n",
    "                \"user_name\": issue[\"user\"][\"login\"], \n",
    "                \"user_id\": issue[\"user\"][\"id\"], \n",
    "                \"user_is_admin\": issue[\"user\"][\"site_admin\"],\n",
    "                \"created_at\": issue[\"created_at\"]\n",
    "            }\n",
    "            for issue in issues_data\n",
    "        ]\n",
    "        return {\"issues\": filtered_issues}\n",
    "    else:\n",
    "        print(\"Error fetching issues from GitHub\")\n",
    "        return None\n"
   ]
  },
  {
   "cell_type": "code",
   "execution_count": 42,
   "metadata": {},
   "outputs": [],
   "source": [
    "REPO_URL = \"https://github.com/mishasinitcyn/RepoCleanup-backend\" # Placeholder repo\n",
    "\n",
    "# Fetch issues as JSON object\n",
    "issues_data = fetch_github_issues(REPO_URL)\n",
    "\n",
    "# Convert JSON object into pandas dataframe\n",
    "issues_df = pd.DataFrame(issues_data['issues'])\n",
    "issues_df.head()"
   ]
  },
  {
   "cell_type": "markdown",
   "metadata": {},
   "source": [
    "## Data analysis\n",
    "- How many unique issue_label categories does a given repository have?\n",
    "- Is it possible to automatically map the label categories to our label categories `[bug,feature,spam,discussion,question]`?"
   ]
  },
  {
   "cell_type": "markdown",
   "metadata": {},
   "source": [
    "### Unique labels"
   ]
  },
  {
   "cell_type": "code",
   "execution_count": 36,
   "metadata": {},
   "outputs": [],
   "source": [
    "def get_unique_labels(df):\n",
    "    all_labels = [label for labels in df['issue_labels'] for label in labels]\n",
    "    unique_labels = pd.Series(all_labels).unique()\n",
    "    print(\"Unique labels:\", unique_labels)"
   ]
  },
  {
   "cell_type": "code",
   "execution_count": 37,
   "metadata": {},
   "outputs": [
    {
     "name": "stdout",
     "output_type": "stream",
     "text": [
      "Unique labels: ['data']\n"
     ]
    }
   ],
   "source": [
    "get_unique_labels(issues_df)"
   ]
  },
  {
   "cell_type": "code",
   "execution_count": null,
   "metadata": {},
   "outputs": [],
   "source": []
  }
 ],
 "metadata": {
  "kernelspec": {
   "display_name": "venv",
   "language": "python",
   "name": "python3"
  },
  "language_info": {
   "codemirror_mode": {
    "name": "ipython",
    "version": 3
   },
   "file_extension": ".py",
   "mimetype": "text/x-python",
   "name": "python",
   "nbconvert_exporter": "python",
   "pygments_lexer": "ipython3",
   "version": "3.11.9"
  }
 },
 "nbformat": 4,
 "nbformat_minor": 2
}
